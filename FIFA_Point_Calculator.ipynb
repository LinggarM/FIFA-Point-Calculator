{
  "nbformat": 4,
  "nbformat_minor": 0,
  "metadata": {
    "colab": {
      "name": "FIFA Point Calculator.ipynb",
      "provenance": [],
      "authorship_tag": "ABX9TyNIim6Grzz7vxFYVzrSuln6",
      "include_colab_link": true
    },
    "kernelspec": {
      "name": "python3",
      "display_name": "Python 3"
    },
    "language_info": {
      "name": "python"
    }
  },
  "cells": [
    {
      "cell_type": "markdown",
      "metadata": {
        "id": "view-in-github",
        "colab_type": "text"
      },
      "source": [
        "<a href=\"https://colab.research.google.com/github/LinggarM/FIFA-Point-Calculator/blob/master/FIFA_Point_Calculator.ipynb\" target=\"_parent\"><img src=\"https://colab.research.google.com/assets/colab-badge.svg\" alt=\"Open In Colab\"/></a>"
      ]
    },
    {
      "cell_type": "code",
      "metadata": {
        "id": "WDJE0PuDddLR"
      },
      "source": [
        "def fifaPointCalc(Pbefore, I, W, Pbefore_opponent) :\n",
        "  dr = Pbefore - Pbefore_opponent\n",
        "  We = 1 / (10**(-dr / 600)  + 1)\n",
        "  P = Pbefore + I * (W - We)\n",
        "  P = round(P, 2)\n",
        "  diff = round(P - Pbefore, 2)\n",
        "  plus = \"\"\n",
        "  if diff > 0 :\n",
        "    plus = \"+\"\n",
        "  return P, diff, plus"
      ],
      "execution_count": 2,
      "outputs": []
    },
    {
      "cell_type": "code",
      "metadata": {
        "colab": {
          "base_uri": "https://localhost:8080/"
        },
        "id": "PMTeOLjwdhkO",
        "outputId": "1b94b6f9-8fbb-4d32-8bb7-3620334821f2"
      },
      "source": [
        "Pbefore = 967.87 # example = Indonesia\n",
        "I = 25 # Importance of Match, see at https://resources.fifa.com/image/upload/fifa-world-ranking-technical-explanation-revision.pdf?cloudid=edbm045h0udbwkqew35a\n",
        "W = 1 # Game Result : 1 Win, 0.5 Draw, 0 Lose\n",
        "Pbefore_opponent = 1258.06 # example = Thailand\n",
        "\n",
        "Pafter, diff, plus = fifaPointCalc(Pbefore, I, W, Pbefore_opponent)\n",
        "print(\"Poin before match =\", Pbefore)\n",
        "print(\"Poin after match =\", Pafter)\n",
        "print(\"Point difference :\", plus, diff)"
      ],
      "execution_count": 7,
      "outputs": [
        {
          "output_type": "stream",
          "text": [
            "Poin before match = 967.87\n",
            "Poin after match = 986.69\n",
            "Point difference : + 18.82\n"
          ],
          "name": "stdout"
        }
      ]
    }
  ]
}