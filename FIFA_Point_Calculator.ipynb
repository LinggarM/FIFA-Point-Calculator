{
  "nbformat": 4,
  "nbformat_minor": 0,
  "metadata": {
    "colab": {
      "name": "FIFA Point Calculator.ipynb",
      "provenance": [],
      "authorship_tag": "ABX9TyPj44BmXlOlhNoA4+uJynJX",
      "include_colab_link": true
    },
    "kernelspec": {
      "name": "python3",
      "display_name": "Python 3"
    },
    "language_info": {
      "name": "python"
    }
  },
  "cells": [
    {
      "cell_type": "markdown",
      "metadata": {
        "id": "view-in-github",
        "colab_type": "text"
      },
      "source": [
        "<a href=\"https://colab.research.google.com/github/LinggarM/FIFA-Point-Calculator/blob/master/FIFA_Point_Calculator.ipynb\" target=\"_parent\"><img src=\"https://colab.research.google.com/assets/colab-badge.svg\" alt=\"Open In Colab\"/></a>"
      ]
    },
    {
      "cell_type": "code",
      "metadata": {
        "id": "WDJE0PuDddLR"
      },
      "source": [
        "def fifaPointCalc(Pbefore, I, W, Pbefore_opponent) :\n",
        "  dr = Pbefore - Pbefore_opponent\n",
        "  We = 1 / (10**(-dr / 600)  + 1)\n",
        "  P = Pbefore + I * (W - We)\n",
        "  P = round(P, 2)\n",
        "  diff = round(P - Pbefore, 2)\n",
        "  plus = \"\"\n",
        "  if diff > 0 :\n",
        "    plus = \"+\"\n",
        "  return P, diff, plus"
      ],
      "execution_count": 13,
      "outputs": []
    },
    {
      "cell_type": "code",
      "metadata": {
        "colab": {
          "base_uri": "https://localhost:8080/"
        },
        "id": "PMTeOLjwdhkO",
        "outputId": "381db5df-abe4-4ee0-efd1-d4d13ede9b7d"
      },
      "source": [
        "Pbefore = 962.99 # example = Indonesia\n",
        "I = 25 # Importance of Match, see at https://resources.fifa.com/image/upload/fifa-world-ranking-technical-explanation-revision.pdf?cloudid=edbm045h0udbwkqew35a\n",
        "W = 0.5 # Game Result : 1 Win, 0.5 Draw, 0 Lose\n",
        "Pbefore_opponent = 1178.07 # example = Thailand\n",
        "\n",
        "Pafter, diff, plus = fifaPointCalc(Pbefore, I, W, Pbefore_opponent)\n",
        "print(\"Poin before match =\", Pbefore)\n",
        "print(\"Poin after match =\", Pafter)\n",
        "print(\"Point difference :\", plus, diff)"
      ],
      "execution_count": 19,
      "outputs": [
        {
          "output_type": "stream",
          "text": [
            "Poin before match = 962.99\n",
            "Poin after match = 967.87\n",
            "Point difference : + 4.88\n"
          ],
          "name": "stdout"
        }
      ]
    }
  ]
}