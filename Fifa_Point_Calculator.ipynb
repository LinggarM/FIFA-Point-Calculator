{
  "nbformat": 4,
  "nbformat_minor": 0,
  "metadata": {
    "colab": {
      "name": "Fifa Point Calculator.ipynb",
      "provenance": [],
      "authorship_tag": "ABX9TyPetPlM1OHTgkUabVgYNge7",
      "include_colab_link": true
    },
    "kernelspec": {
      "name": "python3",
      "display_name": "Python 3"
    },
    "language_info": {
      "name": "python"
    }
  },
  "cells": [
    {
      "cell_type": "markdown",
      "metadata": {
        "id": "view-in-github",
        "colab_type": "text"
      },
      "source": [
        "<a href=\"https://colab.research.google.com/github/LinggarM/FIFA-Point-Calculator/blob/master/Fifa_Point_Calculator.ipynb\" target=\"_parent\"><img src=\"https://colab.research.google.com/assets/colab-badge.svg\" alt=\"Open In Colab\"/></a>"
      ]
    },
    {
      "cell_type": "code",
      "metadata": {
        "id": "WDJE0PuDddLR"
      },
      "source": [
        "def fifaPointCalc(Pbefore, I, W, Pbefore_opponent) :\n",
        "  dr = Pbefore - Pbefore_opponent\n",
        "  We = 1 / (10**(-dr / 600)  + 1)\n",
        "  P = Pbefore + I * (W - We)\n",
        "  return P"
      ],
      "execution_count": 2,
      "outputs": []
    },
    {
      "cell_type": "code",
      "metadata": {
        "colab": {
          "base_uri": "https://localhost:8080/"
        },
        "id": "PMTeOLjwdhkO",
        "outputId": "10c4ec7b-8b11-47a8-ccea-d66448234594"
      },
      "source": [
        "Pbefore = 964.07 # example = Indonesia\n",
        "I = 5 # Importance of Match, see at https://resources.fifa.com/image/upload/fifa-world-ranking-technical-explanation-revision.pdf?cloudid=edbm045h0udbwkqew35a\n",
        "W = 0.5 # Game Result : 1 Win, 0.5 Draw, 0 Lose\n",
        "Pbefore_opponent = 1301.51 # example = Oman\n",
        "print(\"Poin before match = \", Pbefore)\n",
        "print(\"Poin after match = \", round(fifaPointCalc(Pbefore, I, W, Pbefore_opponent), 2))"
      ],
      "execution_count": 7,
      "outputs": [
        {
          "output_type": "stream",
          "text": [
            "Poin before match =  964.07\n",
            "Poin after match =  965.49\n"
          ],
          "name": "stdout"
        }
      ]
    }
  ]
}